{
  "nbformat": 4,
  "nbformat_minor": 0,
  "metadata": {
    "colab": {
      "provenance": []
    },
    "kernelspec": {
      "name": "python3",
      "display_name": "Python 3"
    },
    "language_info": {
      "name": "python"
    }
  },
  "cells": [
    {
      "cell_type": "code",
      "execution_count": 3,
      "metadata": {
        "id": "yaG7bjOWP-hB"
      },
      "outputs": [],
      "source": [
        "import pandas as pd\n",
        "import numpy as np\n",
        "from sklearn.preprocessing import StandardScaler, OneHotEncoder\n",
        "from sklearn.ensemble import RandomForestClassifier, AdaBoostClassifier, GradientBoostingClassifier\n",
        "from sklearn.ensemble import RandomForestRegressor, AdaBoostRegressor, GradientBoostingRegressor\n",
        "from sklearn.model_selection import train_test_split\n",
        "from sklearn.metrics import accuracy_score, mean_squared_error\n",
        "from sklearn.model_selection import GridSearchCV\n",
        "from sklearn.metrics import accuracy_score, precision_score, recall_score, f1_score\n",
        "import matplotlib.pyplot as plt\n",
        "import seaborn as sns"
      ]
    },
    {
      "cell_type": "code",
      "source": [
        "def plot_hyperparameter_heatmaps(grid_search, param_grid, model_name, dataset_name):\n",
        "    scores = grid_search.cv_results_['mean_test_score'].reshape(len(param_grid['n_estimators']), len(next(iter(param_grid.values()))[1]))\n",
        "\n",
        "    plt.figure(figsize=(12, 6))\n",
        "    sns.heatmap(scores, annot=True, fmt=\".3f\", cmap=\"viridis\",\n",
        "                xticklabels=param_grid[next(iter(param_grid.keys()))[1]],\n",
        "                yticklabels=param_grid['n_estimators'])\n",
        "    plt.title(f\"{model_name} Hyperparameter Tuning on {dataset_name}\")\n",
        "    plt.xlabel(list(param_grid.keys())[1])\n",
        "    plt.ylabel('n_estimators')\n",
        "    plt.show()"
      ],
      "metadata": {
        "id": "BJrRgLysuZuh"
      },
      "execution_count": 16,
      "outputs": []
    },
    {
      "cell_type": "code",
      "source": [
        "#the datasets\n",
        "banknote_df = pd.read_csv('/content/data_banknote_authentication.csv')\n",
        "glasstype_df = pd.read_csv('/content/glasstypePrediction.csv')\n",
        "houseprice_df = pd.read_csv('/content/housePricePrediction.csv')\n",
        "\n",
        "#check for missing values in banknote authentication dataset\n",
        "missing_values_banknote = banknote_df.isnull().sum()\n",
        "\n",
        "#check for missing values in glass type prediction dataset\n",
        "missing_values_glasstype = glasstype_df.isnull().sum()\n",
        "\n",
        "#feature scaling\n",
        "scaler = StandardScaler()\n",
        "scaled_features_glass = scaler.fit_transform(glasstype_df.drop('Type', axis=1))\n",
        "scaled_glasstype_df = pd.DataFrame(scaled_features_glass, columns=glasstype_df.columns[:-1])\n",
        "\n",
        "#preprocessing house price prediction dataset\n",
        "houseprice_df = houseprice_df.drop('ADDRESS', axis=1)\n",
        "\n",
        "\n",
        "categorical_features_house = houseprice_df.select_dtypes(include=['object']).columns\n",
        "numerical_features_house = houseprice_df.select_dtypes(include=['int64', 'float64']).columns.drop('TARGET(PRICE_IN_LACS)')\n",
        "\n",
        "encoder = OneHotEncoder(sparse=False, drop='first')\n",
        "encoded_categorical_house = encoder.fit_transform(houseprice_df[categorical_features_house])\n",
        "encoded_categorical_df_house = pd.DataFrame(encoded_categorical_house, columns=encoder.get_feature_names_out(categorical_features_house))\n",
        "\n",
        "preprocessed_houseprice_df = pd.concat([houseprice_df[numerical_features_house], encoded_categorical_df_house], axis=1)\n",
        "\n",
        "missing_values_houseprice = preprocessed_houseprice_df.isnull().sum()"
      ],
      "metadata": {
        "colab": {
          "base_uri": "https://localhost:8080/"
        },
        "id": "Upi0RuQvSR-b",
        "outputId": "adf216b1-1bae-4280-865f-ec5a55a07300"
      },
      "execution_count": 5,
      "outputs": [
        {
          "output_type": "stream",
          "name": "stderr",
          "text": [
            "/usr/local/lib/python3.10/dist-packages/sklearn/preprocessing/_encoders.py:868: FutureWarning: `sparse` was renamed to `sparse_output` in version 1.2 and will be removed in 1.4. `sparse_output` is ignored unless you leave `sparse` to its default value.\n",
            "  warnings.warn(\n"
          ]
        }
      ]
    },
    {
      "cell_type": "code",
      "source": [
        "print(\"Banknote Dataset Missing Values:\\n\", missing_values_banknote)\n",
        "print(\"\\scaled glass type dataset:\\n\", scaled_glasstype_df.head())\n",
        "print(\"\\house price dataset missing values:\\n\", missing_values_houseprice)\n",
        "print(\"\\preprocessed house price dataset:\\n\", preprocessed_houseprice_df.head())"
      ],
      "metadata": {
        "colab": {
          "base_uri": "https://localhost:8080/"
        },
        "id": "7zNsH_axVD6U",
        "outputId": "026d414d-8c95-42b2-f440-eaf8c01b875a"
      },
      "execution_count": 6,
      "outputs": [
        {
          "output_type": "stream",
          "name": "stdout",
          "text": [
            "Banknote Dataset Missing Values:\n",
            " Variance_Wavelet    0\n",
            "Skewness_Wavelet    0\n",
            "Curtosis_Wavelet    0\n",
            "Image_Entropy       0\n",
            "Class               0\n",
            "dtype: int64\n",
            "\\scaled glass type dataset:\n",
            "          RI        Na        Mg        Al        Si         K        Ca  \\\n",
            "0  0.872868  0.284953  1.254639 -0.692442 -1.127082 -0.671705 -0.145766   \n",
            "1 -0.249333  0.591817  0.636168 -0.170460  0.102319 -0.026213 -0.793734   \n",
            "2 -0.721318  0.149933  0.601422  0.190912  0.438787 -0.164533 -0.828949   \n",
            "3 -0.232831 -0.242853  0.698710 -0.310994 -0.052974  0.112107 -0.519052   \n",
            "4 -0.312045 -0.169205  0.650066 -0.411375  0.555256  0.081369 -0.624699   \n",
            "\n",
            "         Ba        Fe  \n",
            "0 -0.352877 -0.586451  \n",
            "1 -0.352877 -0.586451  \n",
            "2 -0.352877 -0.586451  \n",
            "3 -0.352877 -0.586451  \n",
            "4 -0.352877 -0.586451  \n",
            "\\house price dataset missing values:\n",
            " UNDER_CONSTRUCTION    0\n",
            "RERA                  0\n",
            "BHK_NO.               0\n",
            "SQUARE_FT             0\n",
            "READY_TO_MOVE         0\n",
            "RESALE                0\n",
            "LONGITUDE             0\n",
            "LATITUDE              0\n",
            "POSTED_BY_Dealer      0\n",
            "POSTED_BY_Owner       0\n",
            "BHK_OR_RK_RK          0\n",
            "dtype: int64\n",
            "\\preprocessed house price dataset:\n",
            "    UNDER_CONSTRUCTION  RERA  BHK_NO.    SQUARE_FT  READY_TO_MOVE  RESALE  \\\n",
            "0                   0     0        2  1300.236407              1       1   \n",
            "1                   0     0        2  1275.000000              1       1   \n",
            "2                   0     0        2   933.159722              1       1   \n",
            "3                   0     1        2   929.921143              1       1   \n",
            "4                   1     0        2   999.009247              0       1   \n",
            "\n",
            "   LONGITUDE   LATITUDE  POSTED_BY_Dealer  POSTED_BY_Owner  BHK_OR_RK_RK  \n",
            "0  12.969910  77.597960               0.0              1.0           0.0  \n",
            "1  12.274538  76.644605               1.0              0.0           0.0  \n",
            "2  12.778033  77.632191               0.0              1.0           0.0  \n",
            "3  28.642300  77.344500               0.0              1.0           0.0  \n",
            "4  22.592200  88.484911               1.0              0.0           0.0  \n"
          ]
        }
      ]
    },
    {
      "cell_type": "code",
      "source": [
        "#train classifiers\n",
        "def train_classifiers(X, y):\n",
        "    random_forest_clf = RandomForestClassifier(random_state=42)\n",
        "    adaboost_clf = AdaBoostClassifier(random_state=42)\n",
        "    gradient_boost_clf = GradientBoostingClassifier(random_state=42)\n",
        "\n",
        "    X_train, X_test, y_train, y_test = train_test_split(X, y, test_size=0.2, random_state=42)\n",
        "\n",
        "    random_forest_clf.fit(X_train, y_train)\n",
        "    adaboost_clf.fit(X_train, y_train)\n",
        "    gradient_boost_clf.fit(X_train, y_train)\n",
        "\n",
        "    rf_predictions = random_forest_clf.predict(X_test)\n",
        "    ab_predictions = adaboost_clf.predict(X_test)\n",
        "    gb_predictions = gradient_boost_clf.predict(X_test)\n",
        "\n",
        "    rf_accuracy = accuracy_score(y_test, rf_predictions)\n",
        "    ab_accuracy = accuracy_score(y_test, ab_predictions)\n",
        "    gb_accuracy = accuracy_score(y_test, gb_predictions)\n",
        "\n",
        "    return rf_accuracy, ab_accuracy, gb_accuracy"
      ],
      "metadata": {
        "id": "sA_ZOTasSSeG"
      },
      "execution_count": 7,
      "outputs": []
    },
    {
      "cell_type": "code",
      "source": [
        "#train regressors\n",
        "def train_regressors(X, y):\n",
        "\n",
        "    random_forest_reg = RandomForestRegressor(random_state=42)\n",
        "    adaboost_reg = AdaBoostRegressor(random_state=42)\n",
        "    gradient_boost_reg = GradientBoostingRegressor(random_state=42)\n",
        "\n",
        "    X_train, X_test, y_train, y_test = train_test_split(X, y, test_size=0.2, random_state=42)\n",
        "\n",
        "    random_forest_reg.fit(X_train, y_train)\n",
        "    adaboost_reg.fit(X_train, y_train)\n",
        "    gradient_boost_reg.fit(X_train, y_train)\n",
        "\n",
        "    rf_predictions = random_forest_reg.predict(X_test)\n",
        "    ab_predictions = adaboost_reg.predict(X_test)\n",
        "    gb_predictions = gradient_boost_reg.predict(X_test)\n",
        "\n",
        "    rf_mse = mean_squared_error(y_test, rf_predictions)\n",
        "    ab_mse = mean_squared_error(y_test, ab_predictions)\n",
        "    gb_mse = mean_squared_error(y_test, gb_predictions)\n",
        "\n",
        "    return rf_mse, ab_mse, gb_mse"
      ],
      "metadata": {
        "id": "18VNkOVOSSwY"
      },
      "execution_count": 8,
      "outputs": []
    },
    {
      "cell_type": "code",
      "source": [
        "#banknote authentication\n",
        "X_banknote = banknote_df.drop('Class', axis=1)\n",
        "y_banknote = banknote_df['Class']\n",
        "rf_acc_banknote, ab_acc_banknote, gb_acc_banknote = train_classifiers(X_banknote, y_banknote)\n",
        "\n",
        "#glass type prediction\n",
        "X_glass = scaled_glasstype_df\n",
        "y_glass = glasstype_df['Type']\n",
        "rf_acc_glass, ab_acc_glass, gb_acc_glass = train_classifiers(X_glass, y_glass)\n",
        "\n",
        "#house price prediction\n",
        "X_houseprice = preprocessed_houseprice_df\n",
        "y_houseprice = houseprice_df['TARGET(PRICE_IN_LACS)']\n",
        "rf_mse_houseprice, ab_mse_houseprice, gb_mse_houseprice = train_regressors(X_houseprice, y_houseprice)"
      ],
      "metadata": {
        "id": "8z5MhGixUy1u"
      },
      "execution_count": 9,
      "outputs": []
    },
    {
      "cell_type": "code",
      "source": [
        "#the results\n",
        "print(f\"Banknote Authentication Accuracies:\\nRF: {rf_acc_banknote}, AdaBoost: {ab_acc_banknote}, Gradient Boost: {gb_acc_banknote}\\n\")\n",
        "print(f\"Glass Type Prediction Accuracies:\\nRF: {rf_acc_glass}, AdaBoost: {ab_acc_glass}, Gradient Boost: {gb_acc_glass}\\n\")\n",
        "print(f\"House Price Prediction MSE:\\nRF: {rf_mse_houseprice}, AdaBoost: {ab_mse_houseprice}, Gradient Boost: {gb_mse_houseprice}\\n\")"
      ],
      "metadata": {
        "colab": {
          "base_uri": "https://localhost:8080/"
        },
        "id": "D55T-HxFQoXn",
        "outputId": "c2a0f3f5-ac88-4627-9935-a0406aa0f458"
      },
      "execution_count": 10,
      "outputs": [
        {
          "output_type": "stream",
          "name": "stdout",
          "text": [
            "Banknote Authentication Accuracies:\n",
            "RF: 0.9927272727272727, AdaBoost: 0.9963636363636363, Gradient Boost: 1.0\n",
            "\n",
            "Glass Type Prediction Accuracies:\n",
            "RF: 0.8372093023255814, AdaBoost: 0.4883720930232558, Gradient Boost: 0.8604651162790697\n",
            "\n",
            "House Price Prediction MSE:\n",
            "RF: 139897.54902747445, AdaBoost: 165393.03803941823, Gradient Boost: 117120.16667952422\n",
            "\n"
          ]
        }
      ]
    },
    {
      "cell_type": "code",
      "source": [
        "#Random forest grid\n",
        "rf_param_grid = {\n",
        "    'n_estimators': [50, 100],\n",
        "    'max_depth': [None, 10]\n",
        "}\n",
        "\n",
        "#Gradient boosting grid\n",
        "gb_param_grid = {\n",
        "    'n_estimators': [50, 100],\n",
        "    'learning_rate': [0.01, 0.1]\n",
        "}\n",
        "\n",
        "#Hyperparameter Tuning\n",
        "\n",
        "#banknote authentication dataset\n",
        "rf_grid_search_banknote = GridSearchCV(RandomForestClassifier(random_state=42), rf_param_grid, cv=2, scoring='accuracy')\n",
        "rf_grid_search_banknote.fit(X_banknote, y_banknote)\n",
        "gb_grid_search_banknote = GridSearchCV(GradientBoostingClassifier(random_state=42), gb_param_grid, cv=2, scoring='accuracy')\n",
        "gb_grid_search_banknote.fit(X_banknote, y_banknote)\n",
        "\n",
        "#glass type prediction dataset\n",
        "rf_grid_search_glass = GridSearchCV(RandomForestClassifier(random_state=42), rf_param_grid, cv=2, scoring='accuracy')\n",
        "rf_grid_search_glass.fit(X_glass, y_glass)\n",
        "gb_grid_search_glass = GridSearchCV(GradientBoostingClassifier(random_state=42), gb_param_grid, cv=2, scoring='accuracy')\n",
        "gb_grid_search_glass.fit(X_glass, y_glass)\n",
        "\n",
        "#House price prediction dataset\n",
        "rf_grid_search_houseprice = GridSearchCV(RandomForestRegressor(random_state=42), rf_param_grid, cv=2, scoring='neg_mean_squared_error')\n",
        "rf_grid_search_houseprice.fit(X_houseprice, y_houseprice)\n",
        "gb_grid_search_houseprice = GridSearchCV(GradientBoostingRegressor(random_state=42), gb_param_grid, cv=2, scoring='neg_mean_squared_error')\n",
        "gb_grid_search_houseprice.fit(X_houseprice, y_houseprice)\n",
        "\n",
        "# Output the best parameters and scores\n",
        "print(\"Best parameters and score for Random Forest on banknote dataset:\", rf_grid_search_banknote.best_params_, rf_grid_search_banknote.best_score_)\n",
        "print(\"Best parameters and score for Gradient Boosting on banknote dataset:\", gb_grid_search_banknote.best_params_, gb_grid_search_banknote.best_score_)\n",
        "print(\"Best parameters and score for Random Forest on glass dataset:\", rf_grid_search_glass.best_params_, rf_grid_search_glass.best_score_)\n",
        "print(\"Best parameters and score for Gradient Boosting on glass dataset:\", gb_grid_search_glass.best_params_, gb_grid_search_glass.best_score_)\n",
        "print(\"Best parameters and score for Random Forest on houseprice dataset:\", rf_grid_search_houseprice.best_params_, rf_grid_search_houseprice.best_score_)\n",
        "print(\"Best parameters and score for Gradient Boosting on houseprice dataset:\", gb_grid_search_houseprice.best_params_, gb_grid_search_houseprice.best_score_)\n"
      ],
      "metadata": {
        "colab": {
          "base_uri": "https://localhost:8080/"
        },
        "id": "UBctiZ8rQtws",
        "outputId": "e737c8a3-24c5-41fc-ecca-ce4d6767959f"
      },
      "execution_count": 11,
      "outputs": [
        {
          "output_type": "stream",
          "name": "stdout",
          "text": [
            "Best parameters and score for Random Forest on banknote dataset: {'max_depth': None, 'n_estimators': 100} 0.9934402332361516\n",
            "Best parameters and score for Gradient Boosting on banknote dataset: {'learning_rate': 0.1, 'n_estimators': 100} 0.9927113702623906\n",
            "Best parameters and score for Random Forest on glass dataset: {'max_depth': None, 'n_estimators': 100} 0.5841121495327102\n",
            "Best parameters and score for Gradient Boosting on glass dataset: {'learning_rate': 0.1, 'n_estimators': 100} 0.5327102803738317\n",
            "Best parameters and score for Random Forest on houseprice dataset: {'max_depth': None, 'n_estimators': 100} -48317.6596119949\n",
            "Best parameters and score for Gradient Boosting on houseprice dataset: {'learning_rate': 0.1, 'n_estimators': 100} -40806.436677626974\n"
          ]
        }
      ]
    },
    {
      "cell_type": "code",
      "source": [
        "#Training and Evaluation\n",
        "for dataset_name, X, y, rf_best_params, gb_best_params in [\n",
        "    (\"Banknote Authentication\", X_banknote, y_banknote, rf_grid_search_banknote.best_params_, gb_grid_search_banknote.best_params_),\n",
        "    (\"Glass Type Prediction\", X_glass, y_glass, rf_grid_search_glass.best_params_, gb_grid_search_glass.best_params_)\n",
        "]:\n",
        "    X_train, X_test, y_train, y_test = train_test_split(X, y, test_size=0.2, random_state=42)\n",
        "\n",
        "    rf_best = RandomForestClassifier(**rf_best_params, random_state=42)\n",
        "    gb_best = GradientBoostingClassifier(**gb_best_params, random_state=42)\n",
        "\n",
        "    rf_best.fit(X_train, y_train)\n",
        "    gb_best.fit(X_train, y_train)\n",
        "\n",
        "    for model_name, model in [(\"Random Forest\", rf_best), (\"Gradient Boosting\", gb_best)]:\n",
        "        predictions = model.predict(X_test)\n",
        "        accuracy = accuracy_score(y_test, predictions)\n",
        "        precision = precision_score(y_test, predictions, average='weighted')\n",
        "        recall = recall_score(y_test, predictions, average='weighted')\n",
        "        f1 = f1_score(y_test, predictions, average='weighted')\n",
        "\n",
        "        print(f\"{model_name} on {dataset_name} - Accuracy: {accuracy}, Precision: {precision}, Recall: {recall}, F1 Score: {f1}\")\n",
        "\n",
        "X_train_hp, X_test_hp, y_train_hp, y_test_hp = train_test_split(X_houseprice, y_houseprice, test_size=0.2, random_state=42)\n",
        "\n",
        "rf_best_hp = RandomForestRegressor(**rf_grid_search_houseprice.best_params_, random_state=42)\n",
        "gb_best_hp = GradientBoostingRegressor(**gb_grid_search_houseprice.best_params_, random_state=42)\n",
        "\n",
        "rf_best_hp.fit(X_train_hp, y_train_hp)\n",
        "gb_best_hp.fit(X_train_hp, y_train_hp)\n",
        "\n",
        "predictions_rf_hp = rf_best_hp.predict(X_test_hp)\n",
        "predictions_gb_hp = gb_best_hp.predict(X_test_hp)\n",
        "\n",
        "mse_rf_hp = mean_squared_error(y_test_hp, predictions_rf_hp)\n",
        "mse_gb_hp = mean_squared_error(y_test_hp, predictions_gb_hp)\n",
        "\n",
        "print(f\"Random Forest on House Price - MSE: {mse_rf_hp}\")\n",
        "print(f\"Gradient Boosting on House Price - MSE: {mse_gb_hp}\")\n"
      ],
      "metadata": {
        "colab": {
          "base_uri": "https://localhost:8080/"
        },
        "id": "cg204_ROQuHI",
        "outputId": "0afa6e5f-3991-44cb-d5a3-bdebae8d822d"
      },
      "execution_count": 12,
      "outputs": [
        {
          "output_type": "stream",
          "name": "stdout",
          "text": [
            "Random Forest on Banknote Authentication - Accuracy: 0.9927272727272727, Precision: 0.9928242424242424, Recall: 0.9927272727272727, F1 Score: 0.9927228178234889\n",
            "Gradient Boosting on Banknote Authentication - Accuracy: 1.0, Precision: 1.0, Recall: 1.0, F1 Score: 1.0\n",
            "Random Forest on Glass Type Prediction - Accuracy: 0.8372093023255814, Precision: 0.866828165374677, Recall: 0.8372093023255814, F1 Score: 0.8330452594474481\n",
            "Gradient Boosting on Glass Type Prediction - Accuracy: 0.8604651162790697, Precision: 0.8799372462163159, Recall: 0.8604651162790697, F1 Score: 0.8501294328106912\n",
            "Random Forest on House Price - MSE: 139897.54902747445\n",
            "Gradient Boosting on House Price - MSE: 117120.16667952422\n"
          ]
        }
      ]
    },
    {
      "cell_type": "code",
      "source": [
        "\n",
        "#results to summarizes the accuracy for each ensemble model on each dataset\n",
        "results = [\n",
        "    {\"Model\": \"Random Forest\", \"Dataset\": \"Banknote Authentication\", \"Metric\": \"Accuracy\", \"Score\": 0.9927272727272727},\n",
        "    {\"Model\": \"Random Forest\", \"Dataset\": \"Banknote Authentication\", \"Metric\": \"Precision\", \"Score\": 0.9928242424242424},\n",
        "    {\"Model\": \"Random Forest\", \"Dataset\": \"Banknote Authentication\", \"Metric\": \"Recall\", \"Score\": 0.9927272727272727},\n",
        "    {\"Model\": \"Random Forest\", \"Dataset\": \"Banknote Authentication\", \"Metric\": \"F1 Score\", \"Score\": 0.9927228178234889},\n",
        "\n",
        "    {\"Model\": \"Gradient Boosting\", \"Dataset\": \"Banknote Authentication\", \"Metric\": \"Accuracy\", \"Score\": 1.0},\n",
        "    {\"Model\": \"Gradient Boosting\", \"Dataset\": \"Banknote Authentication\", \"Metric\": \"Precision\", \"Score\": 1.0},\n",
        "    {\"Model\": \"Gradient Boosting\", \"Dataset\": \"Banknote Authentication\", \"Metric\": \"Recall\", \"Score\": 1.0},\n",
        "    {\"Model\": \"Gradient Boosting\", \"Dataset\": \"Banknote Authentication\", \"Metric\": \"F1 Score\", \"Score\": 1.0},\n",
        "\n",
        "    {\"Model\": \"Random Forest\", \"Dataset\": \"Glass Type Prediction\", \"Metric\": \"Accuracy\", \"Score\": 0.8372093023255814},\n",
        "    {\"Model\": \"Random Forest\", \"Dataset\": \"Glass Type Prediction\", \"Metric\": \"Precision\", \"Score\": 0.866828165374677},\n",
        "    {\"Model\": \"Random Forest\", \"Dataset\": \"Glass Type Prediction\", \"Metric\": \"Recall\", \"Score\": 0.8372093023255814},\n",
        "    {\"Model\": \"Random Forest\", \"Dataset\": \"Glass Type Prediction\", \"Metric\": \"F1 Score\", \"Score\": 0.8330452594474481},\n",
        "\n",
        "    {\"Model\": \"Gradient Boosting\", \"Dataset\": \"Glass Type Prediction\", \"Metric\": \"Accuracy\", \"Score\": 0.8604651162790697},\n",
        "    {\"Model\": \"Gradient Boosting\", \"Dataset\": \"Glass Type Prediction\", \"Metric\": \"Precision\", \"Score\": 0.8799372462163159},\n",
        "    {\"Model\": \"Gradient Boosting\", \"Dataset\": \"Glass Type Prediction\", \"Metric\": \"Recall\", \"Score\": 0.8604651162790697},\n",
        "    {\"Model\": \"Gradient Boosting\", \"Dataset\": \"Glass Type Prediction\", \"Metric\": \"F1 Score\", \"Score\": 0.8501294328106912},\n",
        "\n",
        "    {\"Model\": \"Random Forest\", \"Dataset\": \"House Price Prediction\", \"Metric\": \"MSE\", \"Score\": 139897.54902747445},\n",
        "    {\"Model\": \"Gradient Boosting\", \"Dataset\": \"House Price Prediction\", \"Metric\": \"MSE\", \"Score\": 117120.16667952422}\n",
        "]\n",
        "\n",
        "# Convert the comparison table to a pandas DataFrame and display it\n",
        "comparison_df = pd.DataFrame(results)\n",
        "print(comparison_df)\n"
      ],
      "metadata": {
        "colab": {
          "base_uri": "https://localhost:8080/"
        },
        "id": "gfWkhR1tQ4xH",
        "outputId": "0ef4d722-9c56-48e5-bb25-36b47c2cd58c"
      },
      "execution_count": 13,
      "outputs": [
        {
          "output_type": "stream",
          "name": "stdout",
          "text": [
            "                Model                  Dataset     Metric          Score\n",
            "0       Random Forest  Banknote Authentication   Accuracy       0.992727\n",
            "1       Random Forest  Banknote Authentication  Precision       0.992824\n",
            "2       Random Forest  Banknote Authentication     Recall       0.992727\n",
            "3       Random Forest  Banknote Authentication   F1 Score       0.992723\n",
            "4   Gradient Boosting  Banknote Authentication   Accuracy       1.000000\n",
            "5   Gradient Boosting  Banknote Authentication  Precision       1.000000\n",
            "6   Gradient Boosting  Banknote Authentication     Recall       1.000000\n",
            "7   Gradient Boosting  Banknote Authentication   F1 Score       1.000000\n",
            "8       Random Forest    Glass Type Prediction   Accuracy       0.837209\n",
            "9       Random Forest    Glass Type Prediction  Precision       0.866828\n",
            "10      Random Forest    Glass Type Prediction     Recall       0.837209\n",
            "11      Random Forest    Glass Type Prediction   F1 Score       0.833045\n",
            "12  Gradient Boosting    Glass Type Prediction   Accuracy       0.860465\n",
            "13  Gradient Boosting    Glass Type Prediction  Precision       0.879937\n",
            "14  Gradient Boosting    Glass Type Prediction     Recall       0.860465\n",
            "15  Gradient Boosting    Glass Type Prediction   F1 Score       0.850129\n",
            "16      Random Forest   House Price Prediction        MSE  139897.549027\n",
            "17  Gradient Boosting   House Price Prediction        MSE  117120.166680\n"
          ]
        }
      ]
    },
    {
      "cell_type": "code",
      "source": [
        "#Accuracy scores\n",
        "accuracy_scores = {\n",
        "    \"Model\": [\"Random Forest\", \"Random Forest\", \"Gradient Boosting\", \"Gradient Boosting\"],\n",
        "    \"Dataset\": [\"Banknote Authentication\", \"Glass Type Prediction\", \"Banknote Authentication\", \"Glass Type Prediction\"],\n",
        "    \"Accuracy\": [0.9927272727272727, 0.8372093023255814, 1.0, 0.8604651162790697]\n",
        "}\n",
        "\n",
        "#MSE scores\n",
        "mse_scores = {\n",
        "    \"Model\": [\"Random Forest\", \"Gradient Boosting\"],\n",
        "    \"Dataset\": [\"House Price Prediction\", \"House Price Prediction\"],\n",
        "    \"MSE\": [139897.54902747445, 117120.16667952422]\n",
        "}\n",
        "\n",
        "#convert dictionaries to DataFrames\n",
        "accuracy_df = pd.DataFrame(accuracy_scores)\n",
        "mse_df = pd.DataFrame(mse_scores)\n",
        "\n",
        "#Accuracy comparison using bar chart\n",
        "plt.figure(figsize=(10, 6))\n",
        "sns.barplot(x=\"Dataset\", y=\"Accuracy\", hue=\"Model\", data=accuracy_df)\n",
        "plt.title('Comparison of Model Accuracies')\n",
        "plt.ylabel('Accuracy Score')\n",
        "plt.xlabel('Dataset')\n",
        "plt.legend(title='Model')\n",
        "plt.tight_layout()\n",
        "plt.show()\n",
        "\n",
        "#MSE comparison using bar chart on house price prediction\n",
        "plt.figure(figsize=(10, 6))\n",
        "sns.barplot(x=\"Model\", y=\"MSE\", data=mse_df)\n",
        "plt.title('Comparison of Model MSE on House Price Prediction')\n",
        "plt.ylabel('Mean Squared Error (MSE)')\n",
        "plt.xlabel('Model')\n",
        "plt.tight_layout()\n",
        "plt.show()"
      ],
      "metadata": {
        "colab": {
          "base_uri": "https://localhost:8080/",
          "height": 1000
        },
        "id": "cWmcjPtkQ7tF",
        "outputId": "ee861087-616a-4183-e1b3-ca56aae3d42b"
      },
      "execution_count": 14,
      "outputs": [
        {
          "output_type": "display_data",
          "data": {
            "text/plain": [
              "<Figure size 1000x600 with 1 Axes>"
            ],
            "image/png": "[encoded data removed]"
          },
          "metadata": {}
        },
        {
          "output_type": "display_data",
          "data": {
            "text/plain": [
              "<Figure size 1000x600 with 1 Axes>"
            ],
            "image/png": "[encoded data removed]"
          },
          "metadata": {}
        }
      ]
    },
    {
      "cell_type": "markdown",
      "source": [
        "conclusion:\n",
        "Gradient Boosting achieved perfect accuracy on the Banknote dataset, suggesting clear class separability, while Random Forest also performed well. On the Glass dataset, both models showed lower accuracy, with Gradient Boosting slightly ahead, indicating more complexity. For House Price prediction, Gradient Boosting had a lower MSE, suggesting better performance on non-linear data. Overall, Gradient Boosting is better for higher predictive power and complex interactions but can overfit and is computationally expensive. Random Forest is robust, easier to use, and less prone to overfitting but might struggle with very noisy data. The choice between models depends on the problem specifics and available resources.\n"
      ],
      "metadata": {
        "id": "XJVNc09nYf-V"
      }
    }
  ]
}